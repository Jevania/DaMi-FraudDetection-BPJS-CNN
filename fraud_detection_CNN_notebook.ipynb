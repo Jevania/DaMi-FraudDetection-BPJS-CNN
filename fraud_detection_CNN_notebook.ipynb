{
 "cells": [
  {
   "cell_type": "markdown",
   "id": "37d7c21e",
   "metadata": {},
   "source": [
    "# Data UnderStanding"
   ]
  },
  {
   "cell_type": "code",
   "execution_count": null,
   "id": "4efe45d8",
   "metadata": {},
   "outputs": [],
   "source": [
    "# Standard Library Imports\n",
    "import pandas as pd\n",
    "import numpy as np\n",
    "import matplotlib.pyplot as plt\n",
    "\n",
    "# 3rd Party Library Imports\n",
    "import seaborn as sns\n",
    "from numpy.core.defchararray import add\n",
    "from sklearn.model_selection import train_test_split\n",
    "from sklearn.preprocessing import MinMaxScaler, StandardScaler\n",
    "from sklearn.metrics import (\n",
    "    accuracy_score,\n",
    "    classification_report,\n",
    "    confusion_matrix,\n",
    "    precision_score,\n",
    "    recall_score,\n",
    ")\n",
    "\n",
    "import tensorflow as tf\n",
    "from tensorflow import keras\n",
    "from tensorflow.keras import Sequential\n",
    "from tensorflow.keras.layers import Flatten, Dense, Dropout, BatchNormalization, Conv1D"
   ]
  },
  {
   "cell_type": "markdown",
   "id": "2e15e994",
   "metadata": {},
   "source": [
    "## Description Data\n",
    "\n",
    "load data"
   ]
  },
  {
   "cell_type": "code",
   "execution_count": null,
   "id": "5761071e",
   "metadata": {},
   "outputs": [],
   "source": [
    "df = pd.read_csv(\"dataset.csv\")"
   ]
  },
  {
   "cell_type": "markdown",
   "id": "287cb0c0",
   "metadata": {},
   "source": [
    "show the first 5 rows of the dataset"
   ]
  },
  {
   "cell_type": "code",
   "execution_count": null,
   "id": "bd29e8e2",
   "metadata": {},
   "outputs": [],
   "source": [
    "df.head() "
   ]
  },
  {
   "cell_type": "markdown",
   "id": "c8cfaca6",
   "metadata": {},
   "source": [
    "shows the last 5 rows of the dataset"
   ]
  },
  {
   "cell_type": "code",
   "execution_count": null,
   "id": "8495a6e5",
   "metadata": {},
   "outputs": [],
   "source": [
    "df.tail() "
   ]
  },
  {
   "cell_type": "markdown",
   "id": "c6263c0a",
   "metadata": {},
   "source": [
    "shows the statistical summary of the dataset"
   ]
  },
  {
   "cell_type": "code",
   "execution_count": null,
   "id": "6d677ae0",
   "metadata": {},
   "outputs": [],
   "source": [
    "df.describe() "
   ]
  },
  {
   "cell_type": "markdown",
   "id": "f3734480",
   "metadata": {},
   "source": [
    "shows the number of rows and columns"
   ]
  },
  {
   "cell_type": "code",
   "execution_count": null,
   "id": "669db24e",
   "metadata": {},
   "outputs": [],
   "source": [
    "df.shape "
   ]
  },
  {
   "cell_type": "markdown",
   "id": "691d9d32",
   "metadata": {},
   "source": [
    "shows that there are no null values"
   ]
  },
  {
   "cell_type": "code",
   "execution_count": null,
   "id": "5bebdbf8",
   "metadata": {},
   "outputs": [],
   "source": [
    "df.info() "
   ]
  },
  {
   "cell_type": "markdown",
   "id": "34b7ce64",
   "metadata": {},
   "source": [
    "## Exploratory Data Analysis (EDA)"
   ]
  },
  {
   "cell_type": "markdown",
   "id": "3c4927d7",
   "metadata": {},
   "source": [
    "#### `Feature Correlation Heatmap`"
   ]
  },
  {
   "cell_type": "code",
   "execution_count": null,
   "id": "6470a5f6",
   "metadata": {},
   "outputs": [],
   "source": [
    "numeric_df = df.select_dtypes(include=['float64', 'int64'])\n",
    "\n",
    "# correlation matrix\n",
    "correlation_matrix = numeric_df.corr()\n",
    "\n",
    "# heatmap show the correlation between features\n",
    "plt.figure(figsize=(10, 8))\n",
    "sns.heatmap(correlation_matrix, annot=False, cmap='plasma', linewidths=.5)\n",
    "plt.title('Feature Correlation Heatmap', fontsize=15)"
   ]
  },
  {
   "cell_type": "code",
   "execution_count": null,
   "id": "2c1d0ac5",
   "metadata": {},
   "outputs": [],
   "source": [
    "plt.show()"
   ]
  },
  {
   "cell_type": "markdown",
   "id": "73af8d5f",
   "metadata": {},
   "source": [
    "#### `Fraud vs Non-Fraud Distribution`\n",
    "\n",
    "`1` -> fraud\n",
    "\n",
    "`0` -> not fraud"
   ]
  },
  {
   "cell_type": "code",
   "execution_count": null,
   "id": "c9e4b187",
   "metadata": {},
   "outputs": [],
   "source": [
    "df['label'].value_counts()"
   ]
  },
  {
   "cell_type": "code",
   "execution_count": null,
   "id": "eb4c8aef",
   "metadata": {},
   "outputs": [],
   "source": [
    "print('percentage of fraud transaction = ', (float(len(df[df['label'] == 1])) / len(df) )*100, \"%\")"
   ]
  },
  {
   "cell_type": "code",
   "execution_count": null,
   "id": "d9171af8",
   "metadata": {},
   "outputs": [],
   "source": [
    "import plotly.express as px\n",
    "\n",
    "counts = df['label'].value_counts().reset_index()\n",
    "counts.columns = ['label', 'total']\n",
    "\n",
    "fig = px.pie(counts, names='label', values='total',\n",
    "             title='Fraud vs Non-Fraud Distribution',\n",
    "             hover_data=['total'],\n",
    "             color_discrete_sequence=px.colors.qualitative.Alphabet)\n",
    "\n",
    "fig.update_traces(textinfo='percent')\n",
    "fig.update_layout(legend=dict(x=0.15, y=1.0))\n",
    "\n",
    "fig.show()"
   ]
  },
  {
   "cell_type": "markdown",
   "id": "b3f86d94",
   "metadata": {},
   "source": [
    "# Data Preprocessing\n",
    "\n",
    "#### `Validation Data`"
   ]
  },
  {
   "cell_type": "code",
   "execution_count": null,
   "id": "a13c8b45",
   "metadata": {},
   "outputs": [],
   "source": [
    "def missing_values_table(df):\n",
    "       \n",
    "        mis_val = df.isnull().sum()\n",
    "        \n",
    "        mis_val_percent = 100 * df.isnull().sum() / len(df)\n",
    "        \n",
    "        mis_val_table = pd.concat([mis_val, mis_val_percent], axis=1)\n",
    "        \n",
    "        mis_val_table_ren_columns = mis_val_table.rename(\n",
    "        columns = {0 : 'Missing Values', 1 : '% of Total Values'})\n",
    "        \n",
    "        mis_val_table_ren_columns = mis_val_table_ren_columns[\n",
    "            mis_val_table_ren_columns.iloc[:,1] != 0].sort_values(\n",
    "        '% of Total Values', ascending=False).round(1)\n",
    "        \n",
    "        print (\"Your selected dataframe has \" + str(df.shape[1]) + \" columns.\\n\"      \n",
    "            \"There are \" + str(mis_val_table_ren_columns.shape[0]) +\n",
    "              \" columns that have missing values.\")\n",
    "        \n",
    "        return mis_val_table_ren_columns"
   ]
  },
  {
   "cell_type": "markdown",
   "id": "1ce0521b",
   "metadata": {},
   "source": [
    "check for missing values"
   ]
  },
  {
   "cell_type": "code",
   "execution_count": null,
   "id": "a14f7f77",
   "metadata": {},
   "outputs": [],
   "source": [
    "missing_values_table(df) "
   ]
  },
  {
   "cell_type": "markdown",
   "id": "0c8f0d32",
   "metadata": {},
   "source": [
    "check for duplicates"
   ]
  },
  {
   "cell_type": "code",
   "execution_count": null,
   "id": "ae63f1c9",
   "metadata": {},
   "outputs": [],
   "source": [
    "df.duplicated().sum()"
   ]
  },
  {
   "cell_type": "markdown",
   "id": "f3d30137",
   "metadata": {},
   "source": [
    "drop column that:\n",
    "1. `visit_id` -> not use\n",
    "2. `dx2_koo_k93`, `dx2_u00_u99`, `procv00_v89` -> not have correlation "
   ]
  },
  {
   "cell_type": "code",
   "execution_count": null,
   "id": "120d8a7c",
   "metadata": {},
   "outputs": [],
   "source": [
    "drop = ['visit_id', 'dx2_koo_k93', 'dx2_u00_u99', 'procv00_v89'] \n",
    "df.drop(drop, inplace=True, axis = 1)"
   ]
  },
  {
   "cell_type": "code",
   "execution_count": null,
   "id": "94ac5222",
   "metadata": {},
   "outputs": [],
   "source": [
    "df.head()"
   ]
  },
  {
   "cell_type": "markdown",
   "id": "10290ec4",
   "metadata": {},
   "source": [
    "change gender to numeric\n",
    "\n",
    "`0` -> Female\n",
    "\n",
    "`1` -> Male"
   ]
  },
  {
   "cell_type": "code",
   "execution_count": null,
   "id": "9e2806b9",
   "metadata": {},
   "outputs": [],
   "source": [
    "df['jkpst'].replace(to_replace=['L', 'P'], value = [0,1], inplace = True)"
   ]
  },
  {
   "cell_type": "markdown",
   "id": "21cb2c79",
   "metadata": {},
   "source": [
    "numeric data type"
   ]
  },
  {
   "cell_type": "code",
   "execution_count": null,
   "id": "0a8a095f",
   "metadata": {},
   "outputs": [],
   "source": [
    "data_num = df.select_dtypes(include=[np.number])"
   ]
  },
  {
   "cell_type": "markdown",
   "id": "aa1ba3f4",
   "metadata": {},
   "source": [
    "category data type /object "
   ]
  },
  {
   "cell_type": "code",
   "execution_count": null,
   "id": "a17d84fe",
   "metadata": {},
   "outputs": [],
   "source": [
    "data_cat = df.select_dtypes(exclude=[np.number])"
   ]
  },
  {
   "cell_type": "markdown",
   "id": "f36a3d05",
   "metadata": {},
   "source": [
    "get dummies (data transformation)"
   ]
  },
  {
   "cell_type": "code",
   "execution_count": null,
   "id": "9094f469",
   "metadata": {},
   "outputs": [],
   "source": [
    "transform_cat = pd.get_dummies(data_cat, prefix_sep='_', drop_first=True) "
   ]
  },
  {
   "cell_type": "code",
   "execution_count": null,
   "id": "003b791f",
   "metadata": {},
   "outputs": [],
   "source": [
    "data_cat = transform_cat.assign(new=add('', np.arange(1, len(data_cat) + 1).astype(str))) \n",
    "data_num = data_num.assign(new=add('', np.arange(1, len(data_num) + 1).astype(str)))\n",
    "df = pd.concat([data_cat, data_num], axis=1)\n",
    "df.drop(['new'], axis=1, inplace=True)"
   ]
  },
  {
   "cell_type": "code",
   "execution_count": null,
   "id": "43b1f6e0",
   "metadata": {},
   "outputs": [],
   "source": [
    "df.head()"
   ]
  },
  {
   "cell_type": "code",
   "execution_count": null,
   "id": "30961c1e",
   "metadata": {},
   "outputs": [],
   "source": [
    "df.columns"
   ]
  },
  {
   "cell_type": "markdown",
   "id": "13b7481b",
   "metadata": {},
   "source": [
    "## Imbalance Data Handling"
   ]
  },
  {
   "cell_type": "code",
   "execution_count": null,
   "id": "257b7c24",
   "metadata": {},
   "outputs": [],
   "source": [
    "df['label'].value_counts()"
   ]
  },
  {
   "cell_type": "code",
   "execution_count": null,
   "id": "1c5f5fce",
   "metadata": {},
   "outputs": [],
   "source": [
    "fraud = df[df['label'] == 1]\n",
    "non_fraud = df[df['label'] == 0]"
   ]
  },
  {
   "cell_type": "code",
   "execution_count": null,
   "id": "9fec935a",
   "metadata": {},
   "outputs": [],
   "source": [
    "fraud.shape"
   ]
  },
  {
   "cell_type": "code",
   "execution_count": null,
   "id": "f62abaea",
   "metadata": {},
   "outputs": [],
   "source": [
    "non_fraud.shape"
   ]
  },
  {
   "cell_type": "markdown",
   "id": "eb24720b",
   "metadata": {},
   "source": [
    "#### `Upsampling`"
   ]
  },
  {
   "cell_type": "code",
   "execution_count": null,
   "id": "acd45f0b",
   "metadata": {},
   "outputs": [],
   "source": [
    "non_fraud = non_fraud.sample(fraud.shape[0], replace=True) \n",
    "non_fraud.shape"
   ]
  },
  {
   "cell_type": "code",
   "execution_count": null,
   "id": "4a4513f5",
   "metadata": {},
   "outputs": [],
   "source": [
    "df = pd.concat([fraud, non_fraud], ignore_index=True)"
   ]
  },
  {
   "cell_type": "code",
   "execution_count": null,
   "id": "dbf56e1f",
   "metadata": {
    "scrolled": true
   },
   "outputs": [],
   "source": [
    "df['label'].value_counts()"
   ]
  },
  {
   "cell_type": "markdown",
   "id": "fb358913",
   "metadata": {},
   "source": [
    "# Modeling"
   ]
  },
  {
   "cell_type": "markdown",
   "id": "6a672b42",
   "metadata": {},
   "source": [
    "`feature selection` for determining `input` and `target features`"
   ]
  },
  {
   "cell_type": "code",
   "execution_count": null,
   "id": "572344a4",
   "metadata": {},
   "outputs": [],
   "source": [
    "X = df.drop('label', axis = 1)\n",
    "y = df['label']"
   ]
  },
  {
   "cell_type": "markdown",
   "id": "f3d84251",
   "metadata": {},
   "source": [
    "change the scale for each feature using `normalization` so that each value is on a `scale` between `0-1`."
   ]
  },
  {
   "cell_type": "code",
   "execution_count": null,
   "id": "432805b9",
   "metadata": {},
   "outputs": [],
   "source": [
    "X = MinMaxScaler(feature_range=(0, 1)).fit_transform(X)"
   ]
  },
  {
   "cell_type": "markdown",
   "id": "e9fc523c",
   "metadata": {},
   "source": [
    "divide the dataset into `training data` and `test data`"
   ]
  },
  {
   "cell_type": "code",
   "execution_count": null,
   "id": "8506b37d",
   "metadata": {},
   "outputs": [],
   "source": [
    "X_train, X_test, y_train, y_test = train_test_split(X, y, test_size=0.2, random_state=0) \n",
    "X_train.shape, X_test.shape"
   ]
  },
  {
   "cell_type": "code",
   "execution_count": null,
   "id": "69a23f58",
   "metadata": {},
   "outputs": [],
   "source": [
    "X_train.shape, X_test.shape "
   ]
  },
  {
   "cell_type": "code",
   "execution_count": null,
   "id": "d691effb",
   "metadata": {},
   "outputs": [],
   "source": [
    "X_train "
   ]
  },
  {
   "cell_type": "markdown",
   "id": "af541bdf",
   "metadata": {},
   "source": [
    "`scaling standardization` focuses on turning raw data into usable information before it is analyzed."
   ]
  },
  {
   "cell_type": "code",
   "execution_count": null,
   "id": "ba4a3862",
   "metadata": {},
   "outputs": [],
   "source": [
    "scaler = StandardScaler() \n",
    "\n",
    "X_train = scaler.fit_transform(X_train)\n",
    "\n",
    "X_test = scaler.transform(X_test)\n",
    "y_train = y_train.to_numpy()\n",
    "y_test = y_test.to_numpy()"
   ]
  },
  {
   "cell_type": "code",
   "execution_count": null,
   "id": "e09ebbdc",
   "metadata": {},
   "outputs": [],
   "source": [
    "X_train.shape"
   ]
  },
  {
   "cell_type": "code",
   "execution_count": null,
   "id": "3356253c",
   "metadata": {},
   "outputs": [],
   "source": [
    "X_train = X_train.reshape(X_train.shape[0], X_train.shape[1], 1)\n",
    "X_test = X_test.reshape(X_test.shape[0], X_test.shape[1], 1)"
   ]
  },
  {
   "cell_type": "code",
   "execution_count": null,
   "id": "778e2f82",
   "metadata": {},
   "outputs": [],
   "source": [
    "X_train.shape, X_test.shape"
   ]
  },
  {
   "cell_type": "code",
   "execution_count": null,
   "id": "9c2b1c13",
   "metadata": {},
   "outputs": [],
   "source": [
    "X_train[0].shape"
   ]
  },
  {
   "cell_type": "markdown",
   "id": "f5e31886",
   "metadata": {},
   "source": [
    "## Model CNN"
   ]
  },
  {
   "cell_type": "code",
   "execution_count": null,
   "id": "201363c5",
   "metadata": {},
   "outputs": [],
   "source": [
    "model = Sequential()\n",
    "model.add(Conv1D(32, 2, activation='relu', input_shape = (111, 1)))\n",
    "model.add(BatchNormalization())\n",
    "model.add(Dropout(0.1))\n",
    "\n",
    "model.add(Conv1D(64, 2, activation='relu'))\n",
    "model.add(BatchNormalization())\n",
    "model.add(Dropout(0.2))\n",
    "\n",
    "model.add(Flatten())\n",
    "model.add(Dense(64, activation='relu'))\n",
    "model.add(Dropout(0.4))\n",
    "\n",
    "model.add(Dense(1, activation='sigmoid'))\n",
    "model.summary()"
   ]
  },
  {
   "cell_type": "code",
   "execution_count": null,
   "id": "ff4965ce",
   "metadata": {},
   "outputs": [],
   "source": [
    "model.compile(optimizer='adam', loss = 'binary_crossentropy', metrics=['accuracy']) "
   ]
  },
  {
   "cell_type": "code",
   "execution_count": null,
   "id": "d89f4c6a",
   "metadata": {
    "scrolled": true
   },
   "outputs": [],
   "source": [
    "training_results = model.fit(X_train, y_train, epochs=10, validation_data=(X_test, y_test), verbose=1) "
   ]
  },
  {
   "cell_type": "code",
   "execution_count": null,
   "id": "123a54c9",
   "metadata": {},
   "outputs": [],
   "source": [
    "X_train, X_val, y_train, y_val = train_test_split(X_train, y_train, test_size=0.2,  random_state=0) "
   ]
  },
  {
   "cell_type": "code",
   "execution_count": null,
   "id": "17ab0c24",
   "metadata": {},
   "outputs": [],
   "source": [
    "print('X_val', X_val.shape) "
   ]
  },
  {
   "cell_type": "code",
   "execution_count": null,
   "metadata": {},
   "outputs": [],
   "source": [
    "loss, accuracy = model.evaluate(X_test, y_test, verbose=1)\n",
    "loss_v, accuracy_v = model.evaluate(X_val, y_val, verbose=1)"
   ]
  },
  {
   "cell_type": "code",
   "execution_count": null,
   "id": "46f51fe8",
   "metadata": {},
   "outputs": [],
   "source": [
    "print(\"Validation | accuracy = %f  ;  loss = %f\" % (accuracy_v, loss_v))\n",
    "print(\"Test       | accuracy = %f  ;  loss = %f\" % (accuracy, loss))"
   ]
  },
  {
   "cell_type": "code",
   "execution_count": null,
   "metadata": {},
   "outputs": [],
   "source": [
    "y_pred_cnn = model.predict(X_test)\n",
    "y_pred_cnn = np.round(y_pred_cnn).astype(int)\n",
    "\n",
    "cm = confusion_matrix(y_test, y_pred_cnn)\n",
    "sns.heatmap(cm, annot=True, fmt=\"d\", cbar=False)\n",
    "plt.title('CNN Confusion Matrix')\n",
    "plt.savefig('cnn_con_mat')\n",
    "\n",
    "plt.show()"
   ]
  },
  {
   "cell_type": "code",
   "execution_count": null,
   "id": "63083bbf",
   "metadata": {},
   "outputs": [],
   "source": [
    "print(classification_report(y_test, y_pred_cnn))"
   ]
  },
  {
   "cell_type": "code",
   "execution_count": null,
   "metadata": {},
   "outputs": [],
   "source": [
    "print('Precision Score:', precision_score(y_test, y_pred_cnn))\n",
    "print('Accuracy Score:', accuracy_score(y_test, y_pred_cnn))\n",
    "print('Recall Score:', recall_score(y_test,y_pred_cnn))"
   ]
  },
  {
   "cell_type": "code",
   "execution_count": null,
   "metadata": {},
   "outputs": [],
   "source": [
    "print(\"Number of fraud points in the testing dataset =\", sum(y_test))"
   ]
  }
 ],
 "metadata": {
  "kernelspec": {
   "display_name": "Python 3 (ipykernel)",
   "language": "python",
   "name": "python3"
  },
  "language_info": {
   "codemirror_mode": {
    "name": "ipython",
    "version": 3
   },
   "file_extension": ".py",
   "mimetype": "text/x-python",
   "name": "python",
   "nbconvert_exporter": "python",
   "pygments_lexer": "ipython3",
   "version": "3.11.6"
  }
 },
 "nbformat": 4,
 "nbformat_minor": 5
}
